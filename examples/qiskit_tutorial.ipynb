{
  "cells": [
    {
      "cell_type": "raw",
      "metadata": {
        "vscode": {
          "languageId": "raw"
        }
      },
      "source": [
        "# Qiskit 学习教程\n",
        "\n",
        "这个 notebook 将带你了解 Qiskit 的基础知识和量子计算的核心概念。\n",
        "\n",
        "## 目录\n",
        "1. [环境设置](#环境设置)\n",
        "2. [创建你的第一个量子电路](#创建你的第一个量子电路)\n",
        "3. [量子叠加](#量子叠加)\n",
        "4. [量子纠缠](#量子纠缠)\n",
        "5. [测量和结果](#测量和结果)\n"
      ]
    },
    {
      "cell_type": "raw",
      "metadata": {
        "vscode": {
          "languageId": "raw"
        }
      },
      "source": [
        "## 环境设置\n",
        "\n",
        "首先导入必要的库：\n"
      ]
    },
    {
      "cell_type": "code",
      "execution_count": null,
      "metadata": {},
      "outputs": [],
      "source": [
        "# 导入 Qiskit 核心模块\n",
        "from qiskit import QuantumCircuit, transpile\n",
        "from qiskit_aer import AerSimulator\n",
        "from qiskit.visualization import plot_histogram, plot_bloch_vector\n",
        "import matplotlib.pyplot as plt\n",
        "import numpy as np\n",
        "\n",
        "print(\"欢迎来到 Qiskit 学习之旅！\")\n",
        "print(\"让我们开始探索量子计算的奇妙世界。\")\n"
      ]
    }
  ],
  "metadata": {
    "language_info": {
      "name": "python"
    }
  },
  "nbformat": 4,
  "nbformat_minor": 2
}
