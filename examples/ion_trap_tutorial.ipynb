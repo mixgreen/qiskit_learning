{
  "cells": [
    {
      "cell_type": "raw",
      "metadata": {
        "vscode": {
          "languageId": "raw"
        }
      },
      "source": [
        "# 离子阱量子计算编译器教程\n",
        "\n",
        "这个教程将教你如何使用我们自定义的离子阱编译器，将标准的量子电路转换为离子阱系统专用的门操作。\n",
        "\n",
        "## 离子阱量子计算简介\n",
        "\n",
        "离子阱量子计算是一种领先的量子计算实现方案，具有以下特点：\n",
        "\n",
        "- **高保真度**: 离子阱系统具有很长的相干时间\n",
        "- **全连接性**: 任意两个离子都可以直接交互\n",
        "- **专用门集**: 使用特定的门集合（MS门、R门、Virtual Z门）\n",
        "\n",
        "## 目录\n",
        "\n",
        "1. [环境设置](#环境设置)\n",
        "2. [离子阱门介绍](#离子阱门介绍)\n",
        "3. [编译器使用](#编译器使用)\n",
        "4. [实际应用示例](#实际应用示例)\n",
        "5. [性能分析](#性能分析)\n"
      ]
    },
    {
      "cell_type": "raw",
      "metadata": {
        "vscode": {
          "languageId": "raw"
        }
      },
      "source": [
        "## 环境设置\n",
        "\n",
        "首先导入必要的库和我们的离子阱编译器：\n"
      ]
    },
    {
      "cell_type": "code",
      "execution_count": null,
      "metadata": {},
      "outputs": [],
      "source": [
        "# 导入标准库\n",
        "import numpy as np\n",
        "import matplotlib.pyplot as plt\n",
        "from qiskit import QuantumCircuit, transpile\n",
        "from qiskit_aer import AerSimulator\n",
        "from qiskit.visualization import plot_histogram\n",
        "\n",
        "# 导入我们的离子阱编译器\n",
        "import sys\n",
        "sys.path.append('.')\n",
        "from ion_trap_compiler import IonTrapCompiler, MSGate, RThetaPhiGate, VirtualZGate\n",
        "\n",
        "print(\"离子阱编译器导入成功！\")\n",
        "print(\"Python 版本要求: >=3.11\")\n",
        "\n",
        "# 创建编译器实例\n",
        "compiler = IonTrapCompiler(optimization_level=1)\n",
        "print(\"编译器已准备就绪\")\n"
      ]
    }
  ],
  "metadata": {
    "language_info": {
      "name": "python"
    }
  },
  "nbformat": 4,
  "nbformat_minor": 2
}
