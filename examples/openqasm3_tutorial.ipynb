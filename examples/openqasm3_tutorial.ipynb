{
  "cells": [
    {
      "cell_type": "markdown",
      "metadata": {
        "vscode": {
          "languageId": "raw"
        }
      },
      "source": [
        "# OpenQASM 3.0 与 Qiskit 交互教程\n",
        "\n",
        "欢迎来到 OpenQASM 3.0 学习教程！OpenQASM 3.0 是量子汇编语言的最新版本，提供了更强大和灵活的量子程序编写能力。\n",
        "\n",
        "## 目录\n",
        "1. [OpenQASM 3.0 简介](#openqasm-3.0-简介)\n",
        "2. [基本语法和结构](#基本语法和结构)\n",
        "3. [与 Qiskit 的双向转换](#与-qiskit-的双向转换)\n",
        "4. [高级特性](#高级特性)\n",
        "5. [实际应用示例](#实际应用示例)\n"
      ]
    },
    {
      "cell_type": "markdown",
      "metadata": {
        "vscode": {
          "languageId": "raw"
        }
      },
      "source": [
        "## OpenQASM 3.0 简介\n",
        "\n",
        "OpenQASM 3.0 是 IBM 开发的量子汇编语言的最新版本，相比于 OpenQASM 2.0，它提供了：\n",
        "\n",
        "- **更丰富的数据类型**：支持更多的数据类型和变量\n",
        "- **控制流**：支持 if-else 语句和循环\n",
        "- **函数定义**：可以定义自定义门和函数\n",
        "- **更好的模块化**：支持包含其他文件\n",
        "- **实时测量**：支持在电路执行过程中进行测量和条件操作\n",
        "\n",
        "首先导入必要的库：\n"
      ]
    },
    {
      "cell_type": "code",
      "execution_count": null,
      "metadata": {},
      "outputs": [],
      "source": [
        "# 导入必要的库\n",
        "from qiskit import QuantumCircuit, transpile\n",
        "from qiskit_aer import AerSimulator\n",
        "from qiskit.visualization import plot_histogram\n",
        "from qiskit.qasm3 import loads, dumps\n",
        "import matplotlib.pyplot as plt\n",
        "import numpy as np\n",
        "\n",
        "print(\"OpenQASM 3.0 学习环境准备完成！\")\n"
      ]
    }
  ],
  "metadata": {
    "kernelspec": {
      "display_name": ".venv",
      "language": "python",
      "name": "python3"
    },
    "language_info": {
      "codemirror_mode": {
        "name": "ipython",
        "version": 3
      },
      "file_extension": ".py",
      "mimetype": "text/x-python",
      "name": "python",
      "nbconvert_exporter": "python",
      "pygments_lexer": "ipython3",
      "version": "3.13.3"
    }
  },
  "nbformat": 4,
  "nbformat_minor": 2
}
